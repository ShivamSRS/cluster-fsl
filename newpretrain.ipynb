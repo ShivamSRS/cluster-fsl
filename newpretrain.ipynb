{
 "cells": [
  {
   "cell_type": "code",
   "execution_count": null,
   "id": "ffec1f92",
   "metadata": {},
   "outputs": [],
   "source": [
    "!nohup python trainit.py cfgs/pretrain_nct_r12.json -sb logs/pretrain -t pretrain_nct_r12_224 &> 224_pretrain_nct_r12.out"
   ]
  },
  {
   "cell_type": "code",
   "execution_count": null,
   "id": "f0ff2d93",
   "metadata": {},
   "outputs": [],
   "source": [
    "!nohup python trainit.py cfgs/pretrain_skin_r12.json -sb logs/pretrain -t pretrain_skin_r12_224 &> 224_pretrain_skin_r12.out"
   ]
  },
  {
   "cell_type": "code",
   "execution_count": null,
   "id": "5a257bc5",
   "metadata": {},
   "outputs": [],
   "source": [
    "!nohup python trainit.py cfgs/pretrain_blood_r12.json -sb logs/pretrain -t pretrain_blood_r12_224 &> 224_pretrain_blood_r12.out"
   ]
  },
  {
   "cell_type": "code",
   "execution_count": null,
   "id": "ab412601",
   "metadata": {},
   "outputs": [],
   "source": []
  },
  {
   "cell_type": "code",
   "execution_count": 1,
   "id": "ab619b32",
   "metadata": {},
   "outputs": [
    {
     "name": "stdout",
     "output_type": "stream",
     "text": [
      "nohup: ignoring input and appending output to 'nohup.out'\r\n"
     ]
    }
   ],
   "source": [
    "!nohup python trainit.py cfgs/finetune_nct_resnet12_5.json --ckpt logs/pretrain/pretrain_nct_r12_224/checkpoint_best.pth -sb logs/finetune -t nct_r12_5_224"
   ]
  },
  {
   "cell_type": "code",
   "execution_count": 2,
   "id": "c0e184b6",
   "metadata": {},
   "outputs": [
    {
     "ename": "SyntaxError",
     "evalue": "invalid syntax (3832477822.py, line 1)",
     "output_type": "error",
     "traceback": [
      "\u001b[0;36m  File \u001b[0;32m\"/tmp/ipykernel_3007349/3832477822.py\"\u001b[0;36m, line \u001b[0;32m1\u001b[0m\n\u001b[0;31m    python trainit.py cfgs/finetune_skin_resnet12_5.json --ckpt logs/pretrain/pretrain_skin_r12_224/checkpoint_best.pth -sb logs/finetune -t skin_r12_5_224\u001b[0m\n\u001b[0m                 ^\u001b[0m\n\u001b[0;31mSyntaxError\u001b[0m\u001b[0;31m:\u001b[0m invalid syntax\n"
     ]
    }
   ],
   "source": [
    "python trainit.py cfgs/finetune_skin_resnet12_5.json --ckpt logs/pretrain/pretrain_skin_r12_224/checkpoint_best.pth -sb logs/finetune -t skin_r12_5_224"
   ]
  },
  {
   "cell_type": "code",
   "execution_count": null,
   "id": "10e41a32",
   "metadata": {},
   "outputs": [],
   "source": []
  },
  {
   "cell_type": "code",
   "execution_count": null,
   "id": "b71e8c3c",
   "metadata": {},
   "outputs": [],
   "source": []
  },
  {
   "cell_type": "code",
   "execution_count": null,
   "id": "7fd714ee",
   "metadata": {},
   "outputs": [],
   "source": []
  }
 ],
 "metadata": {
  "kernelspec": {
   "display_name": "Python 3 (ipykernel)",
   "language": "python",
   "name": "python3"
  },
  "language_info": {
   "codemirror_mode": {
    "name": "ipython",
    "version": 3
   },
   "file_extension": ".py",
   "mimetype": "text/x-python",
   "name": "python",
   "nbconvert_exporter": "python",
   "pygments_lexer": "ipython3",
   "version": "3.7.16"
  },
  "vscode": {
   "interpreter": {
    "hash": "e7370f93d1d0cde622a1f8e1c04877d8463912d04d973331ad4851f04de6915a"
   }
  }
 },
 "nbformat": 4,
 "nbformat_minor": 5
}
