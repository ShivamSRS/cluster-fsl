{
 "cells": [
  {
   "cell_type": "code",
   "execution_count": 1,
   "id": "ffec1f92",
   "metadata": {},
   "outputs": [],
   "source": [
    "!nohup python testit.py cfgs/ssl_large_blood-resnet12-5_0un.json logs/finetune/blood_r12_5/checkpoint_best.pth -sb logs/Cluster_FSL/ -s MFC -t blood_r12_5_0un &> blood_ssl_0un.out"
   ]
  },
  {
   "cell_type": "code",
   "execution_count": 2,
   "id": "f0ff2d93",
   "metadata": {},
   "outputs": [],
   "source": [
    "!nohup python testit.py cfgs/ssl_large_blood-resnet12-5_15un.json logs/finetune/blood_r12_5/checkpoint_best.pth -sb logs/Cluster_FSL/ -s MFC -t blood_r12_5_15un &> blood_ssl_15un.out"
   ]
  },
  {
   "cell_type": "code",
   "execution_count": 3,
   "id": "5a257bc5",
   "metadata": {},
   "outputs": [],
   "source": [
    "!nohup python testit.py cfgs/ssl_large_blood-resnet12-5_30un.json logs/finetune/blood_r12_5/checkpoint_best.pth -sb logs/Cluster_FSL/ -s MFC -t blood_r12_5_30un &> blood_ssl_30un.out"
   ]
  },
  {
   "cell_type": "code",
   "execution_count": 4,
   "id": "ab412601",
   "metadata": {},
   "outputs": [],
   "source": [
    "!nohup python testit.py cfgs/ssl_large_blood-resnet12-5_50un.json logs/finetune/blood_r12_5/checkpoint_best.pth -sb logs/Cluster_FSL/ -s MFC -t blood_r12_5_50un &> blood_ssl_50un.out"
   ]
  },
  {
   "cell_type": "code",
   "execution_count": null,
   "id": "ab619b32",
   "metadata": {},
   "outputs": [],
   "source": []
  },
  {
   "cell_type": "code",
   "execution_count": null,
   "id": "7fd714ee",
   "metadata": {},
   "outputs": [],
   "source": []
  },
  {
   "cell_type": "code",
   "execution_count": null,
   "id": "468e6c50",
   "metadata": {},
   "outputs": [],
   "source": []
  },
  {
   "cell_type": "code",
   "execution_count": null,
   "id": "0b6aa28c",
   "metadata": {},
   "outputs": [],
   "source": []
  },
  {
   "cell_type": "code",
   "execution_count": null,
   "id": "29aa3846",
   "metadata": {},
   "outputs": [],
   "source": []
  }
 ],
 "metadata": {
  "kernelspec": {
   "display_name": "Python 3",
   "language": "python",
   "name": "python3"
  },
  "language_info": {
   "codemirror_mode": {
    "name": "ipython",
    "version": 3
   },
   "file_extension": ".py",
   "mimetype": "text/x-python",
   "name": "python",
   "nbconvert_exporter": "python",
   "pygments_lexer": "ipython3",
   "version": "3.8.5 (default, Jul 28 2020, 12:59:40) \n[GCC 9.3.0]"
  },
  "vscode": {
   "interpreter": {
    "hash": "e7370f93d1d0cde622a1f8e1c04877d8463912d04d973331ad4851f04de6915a"
   }
  }
 },
 "nbformat": 4,
 "nbformat_minor": 5
}
